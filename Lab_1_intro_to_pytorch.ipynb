{
 "cells": [
  {
   "cell_type": "markdown",
   "id": "bf5d336e",
   "metadata": {},
   "source": [
    "# Lab 1: Introduction to PyTorch\n",
    "- Objective: Build foundational PyTorch skills to support LLM training and parallelism topics later in the course."
   ]
  },
  {
   "cell_type": "markdown",
   "id": "79e51e0a",
   "metadata": {},
   "source": [
    "# 🛠️ SETUP AND INSTALLATIONS\n",
    "- Before starting, ensure the following packages are installed.\n",
    "- You can run these commands directly in your notebook or terminal."
   ]
  },
  {
   "cell_type": "markdown",
   "id": "61d6d4b0",
   "metadata": {
    "vscode": {
     "languageId": "plaintext"
    }
   },
   "source": [
    "- Install PyTorch (check https://pytorch.org for the latest command based on your system)\n",
    "- For CPU only:\n",
    "    - !pip install torch torchvision torchaudio\n",
    "\n",
    "- For GPU support (if using CUDA):\n",
    "    - !pip install torch torchvision torchaudio --index-url https://download.pytorch.org/whl/cu118\n",
    "\n",
    "- Install HuggingFace Transformers (used later in the course):\n",
    "    - !pip install transformers\n",
    "\n",
    "- for plotting or future labs:\n",
    "    - !pip install matplotlib\n"
   ]
  },
  {
   "cell_type": "markdown",
   "id": "a31e78a4",
   "metadata": {},
   "source": [
    "# SECTION 1: What is PyTorch and What Are Tensors?\n",
    "===============================================================\n",
    "- PyTorch is an open-source machine learning library developed by Meta (Facebook).\n",
    "- It is widely used in research and production for building and training neural networks.\n",
    "- PyTorch uses Tensors, which are multi-dimensional arrays (like NumPy arrays) but with GPU support."
   ]
  },
  {
   "cell_type": "code",
   "execution_count": 1,
   "id": "1b9d805c",
   "metadata": {},
   "outputs": [
    {
     "name": "stdout",
     "output_type": "stream",
     "text": [
      "1. Tensor a:  tensor([1., 2., 3.])\n",
      "2. Tensor b: tensor([1., 1., 1.])\n",
      "3. Tensor c: tensor([[0., 0.],\n",
      "        [0., 0.]])\n",
      "4. Tensor d: tensor([[0.3429, 0.2393],\n",
      "        [0.8260, 0.3502]])\n",
      "5. Tensor f: tensor([[1, 2],\n",
      "        [3, 4]])\n"
     ]
    }
   ],
   "source": [
    "import torch\n",
    "\n",
    "# Creating Tensors\n",
    "# A tensor is a container for data. Think of it like a list or matrix but more powerful.\n",
    "a = torch.tensor([1.0, 2.0, 3.0])           # 1D tensor\n",
    "b = torch.ones((3,))                       # Tensor of ones\n",
    "c = torch.zeros((2, 2))                    # 2x2 tensor of zeros\n",
    "d = torch.rand((2, 2))                     # 2x2 tensor with random values\n",
    "f = torch.tensor([[1, 2], [3, 4]])          # 2D tensor\n",
    "\n",
    "print(\"1. Tensor a: \", a)\n",
    "print(\"2. Tensor b:\", b)\n",
    "print(\"3. Tensor c:\", c)\n",
    "print(\"4. Tensor d:\", d)\n",
    "print(\"5. Tensor f:\", f)"
   ]
  },
  {
   "cell_type": "code",
   "execution_count": 2,
   "id": "694c1306",
   "metadata": {},
   "outputs": [
    {
     "name": "stdout",
     "output_type": "stream",
     "text": [
      "6. Tensor x (a + b): tensor([2., 3., 4.])\n",
      "7. Tensor y (a * 2): tensor([2., 4., 6.])\n",
      "8. Tensor z (f @ f): tensor([[ 7, 10],\n",
      "        [15, 22]])\n",
      "9. Tensor l (Transpose of f): tensor([[1, 3],\n",
      "        [2, 4]])\n",
      "10. Tensor m (Reshape f to 1D): tensor([1, 2, 3, 4])\n"
     ]
    }
   ],
   "source": [
    "# 📌 Basic Tensor Operations\n",
    "# Just like using numbers, you can add, multiply, and perform matrix operations on tensors.\n",
    "x = a + b\n",
    "y = a * 2\n",
    "z = f @ f  # Matrix multiplication\n",
    "l = f.T  # Transpose of f\n",
    "m = f.view(4)  # Reshape f to a 1D tensor\n",
    "\n",
    "print(\"6. Tensor x (a + b):\", x)\n",
    "print(\"7. Tensor y (a * 2):\", y)\n",
    "print(\"8. Tensor z (f @ f):\", z)\n",
    "print(\"9. Tensor l (Transpose of f):\", l)\n",
    "print(\"10. Tensor m (Reshape f to 1D):\", m)\n"
   ]
  },
  {
   "cell_type": "markdown",
   "id": "b6da9d70",
   "metadata": {},
   "source": [
    "# SECTION 2: Autograd - Automatic Differentiation\n",
    "# ===============================================================\n",
    "- PyTorch can compute derivatives automatically using autograd.\n",
    "- This is essential for training neural networks (i.e., backpropagation)."
   ]
  },
  {
   "cell_type": "code",
   "execution_count": 3,
   "id": "7dddcc0e",
   "metadata": {},
   "outputs": [
    {
     "name": "stdout",
     "output_type": "stream",
     "text": [
      "y = tensor([14.], grad_fn=<AddBackward0>)\n",
      "dy/dx = tensor([7.])\n"
     ]
    }
   ],
   "source": [
    "x = torch.tensor([2.0], requires_grad=True)  # Tell PyTorch to track this tensor\n",
    "\n",
    "# Define a function y = x^2 + 3x + 4\n",
    "y = x ** 2 + 3 * x + 4\n",
    "\n",
    "print(\"y =\", y)\n",
    "\n",
    "# Compute gradient (dy/dx)\n",
    "y.backward()  # This computes the derivative\n",
    "print(\"dy/dx =\", x.grad)  # Should be 2x + 3 = 7 when x = 2"
   ]
  },
  {
   "cell_type": "markdown",
   "id": "26be45dc",
   "metadata": {},
   "source": [
    "# SECTION 3: Building and Training a Simple Model\n",
    "\n",
    "- Let's train a simple linear regression model using PyTorch.\n",
    "-  Our goal: predict Y from X using a line (y = wx + b)"
   ]
  },
  {
   "cell_type": "markdown",
   "id": "b785a7ca",
   "metadata": {},
   "source": [
    "## 1. Import Libraries "
   ]
  },
  {
   "cell_type": "code",
   "execution_count": 4,
   "id": "76534195",
   "metadata": {},
   "outputs": [],
   "source": [
    "import torch.nn as nn  # torch neural networks module to build models \n",
    "import torch.optim as optim # optimization module for training models\n",
    "import matplotlib.pyplot as plt # for plotting data"
   ]
  },
  {
   "cell_type": "markdown",
   "id": "dfb10de5",
   "metadata": {},
   "source": [
    "## Simulate dummy data"
   ]
  },
  {
   "cell_type": "code",
   "execution_count": 5,
   "id": "96559304",
   "metadata": {},
   "outputs": [
    {
     "name": "stdout",
     "output_type": "stream",
     "text": [
      "X shape: torch.Size([100, 1])\n",
      "Y shape: torch.Size([100, 1])\n",
      "First 5 samples of X: tensor([[0.6464],\n",
      "        [0.1472],\n",
      "        [0.3020],\n",
      "        [0.5350],\n",
      "        [0.3630]])\n",
      "First 5 samples of Y: tensor([[2.4097],\n",
      "        [0.8558],\n",
      "        [1.4058],\n",
      "        [2.0592],\n",
      "        [1.6289]])\n"
     ]
    }
   ],
   "source": [
    "X = torch.rand((100, 1))  # 100 samples, 1 feature each\n",
    "Y = 3 * X + 0.5 + 0.1 * torch.randn_like(X)  # y = 3x + 0.5 with noise , torch.randn_like(X) generates random noise with the same shape as X \n",
    "\n",
    "print(\"X shape:\", X.shape)\n",
    "print(\"Y shape:\", Y.shape)\n",
    "\n",
    "print(\"First 5 samples of X:\", X[:5])\n",
    "print(\"First 5 samples of Y:\", Y[:5])"
   ]
  },
  {
   "cell_type": "markdown",
   "id": "b9a57f01",
   "metadata": {},
   "source": [
    "##  Define a simple neural network with 1 input and 1 output"
   ]
  },
  {
   "cell_type": "code",
   "execution_count": 6,
   "id": "7cab8ed6",
   "metadata": {},
   "outputs": [
    {
     "name": "stdout",
     "output_type": "stream",
     "text": [
      "Model parameters before training: \n",
      "\n",
      "Weight: Parameter containing:\n",
      "tensor([[0.3104]], requires_grad=True) \n",
      "\n",
      "Bias : Parameter containing:\n",
      "tensor([0.5055], requires_grad=True) \n",
      "\n",
      "Model structure: Linear(in_features=1, out_features=1, bias=True) \n",
      "\n",
      "Model parameters: [Parameter containing:\n",
      "tensor([[0.3104]], requires_grad=True), Parameter containing:\n",
      "tensor([0.5055], requires_grad=True)] \n",
      "\n",
      "Model parameters (weight and bias): OrderedDict([('weight', tensor([[0.3104]])), ('bias', tensor([0.5055]))]) \n",
      "\n",
      "Type of model: <class 'torch.nn.modules.linear.Linear'> \n",
      "\n",
      "Tyoe of model parameters: <class 'generator'>\n"
     ]
    }
   ],
   "source": [
    "model = nn.Linear(1, 1) # Define a simple neural network with 1 input and 1 output\n",
    "\n",
    "print(\"Model parameters before training: \\n\")\n",
    "\n",
    "print(f\"Weight: {model.weight} \\n\") # The weight of the model, we will learn this during training, we have only one weight since we have one input feature\n",
    "\n",
    "print(f\"Bias : {model.bias} \\n\") # The bias of the model, we will learn this during training, the bias is used to shift the line up or down, the intuition is that the line does not have to go through the origin (0,0), we can shift it up or down.\n",
    "\n",
    "print(f\"Model structure: {model} \\n\") # The model structure, it shows that we have one input and one output, and the model is a linear model (y = wx + b)\n",
    "\n",
    "print(f\"Model parameters: {list(model.parameters())} \\n\") # The model parameters, it shows that we have one weight and one bias\n",
    "\n",
    "print(f\"Model parameters (weight and bias): {model.state_dict()} \\n\") # The model parameters in a dictionary format, it shows that we have one weight and one bias\n",
    "\n",
    "print(f\"Type of model: {type(model)} \\n\") # The type of model, it shows that we have a linear model\n",
    "\n",
    "print(f\"Tyoe of model parameters: {type(model.parameters())}\") # The type of model parameters, it shows that we have a generator object, we can iterate over it to get the weight and bias\n"
   ]
  },
  {
   "cell_type": "markdown",
   "id": "a3fa4f6d",
   "metadata": {},
   "source": [
    "## Define Loss Function and Optimizer"
   ]
  },
  {
   "cell_type": "code",
   "execution_count": 7,
   "id": "6929c17f",
   "metadata": {},
   "outputs": [],
   "source": [
    "# Define loss function (Mean Squared Error)\n",
    "criterion = nn.MSELoss() # Mean Squared Error (MSE) is a common loss function for regression tasks, it measures the average squared difference between the predicted and actual values,     \n",
    "                         # the lower the MSE, the better the model is performing, it is a good choice for regression tasks where we want to minimize the difference between the predicted and actual values\n",
    "                         # MSE is defined as: MSE = 1/n * Σ(y_i - ŷ_i)^2, where y_i is the actual value, ŷ_i is the predicted value, and n is the number of samples\n",
    "\n",
    "# Define optimizer (Stochastic Gradient Descent)\n",
    "optimizer = optim.SGD(model.parameters(), lr=0.1) # Learning rate is a hyperparameter that controls how much to change the model parameters at each step, \n",
    "                                                    # the lower the learning rate, the slower the model learns, but it can lead to better results,\n",
    "                                                    # the higher the learning rate, the faster the model learns, but it can lead to worse results\n",
    "                                                    # it's usually a good idea to start with a small learning rate and increase it if the model is not learning well"
   ]
  },
  {
   "cell_type": "markdown",
   "id": "18f0ffea",
   "metadata": {},
   "source": [
    "## Training Loop"
   ]
  },
  {
   "cell_type": "code",
   "execution_count": 8,
   "id": "908a9649",
   "metadata": {},
   "outputs": [
    {
     "name": "stdout",
     "output_type": "stream",
     "text": [
      "Epoch [20/100], Loss: 0.2218\n",
      "Epoch [40/100], Loss: 0.1394\n",
      "Epoch [60/100], Loss: 0.0892\n",
      "Epoch [80/100], Loss: 0.0586\n",
      "Epoch [100/100], Loss: 0.0400\n"
     ]
    }
   ],
   "source": [
    "losses = []\n",
    "for epoch in range(100):\n",
    "    optimizer.zero_grad()            # Clear previous gradients\n",
    "    outputs = model(X)               # Forward pass\n",
    "    loss = criterion(outputs, Y)     # Compute loss\n",
    "    loss.backward()                  # Backward pass (compute gradients)\n",
    "    optimizer.step()                 # Update parameters\n",
    "    losses.append(loss.item())\n",
    "    if (epoch + 1) % 20 == 0:\n",
    "        print(f\"Epoch [{epoch+1}/100], Loss: {loss.item():.4f}\")"
   ]
  },
  {
   "cell_type": "markdown",
   "id": "ceff7667",
   "metadata": {},
   "source": [
    "## Show Results"
   ]
  },
  {
   "cell_type": "code",
   "execution_count": 9,
   "id": "1474534c",
   "metadata": {},
   "outputs": [
    {
     "name": "stdout",
     "output_type": "stream",
     "text": [
      "Trained weight: 2.3911173343658447\n",
      "Trained bias: 0.8422505259513855\n"
     ]
    }
   ],
   "source": [
    "# Print trained weights\n",
    "print(\"Trained weight:\", model.weight.item())\n",
    "print(\"Trained bias:\", model.bias.item())"
   ]
  },
  {
   "cell_type": "code",
   "execution_count": 10,
   "id": "bd065fde",
   "metadata": {},
   "outputs": [
    {
     "data": {
      "image/png": "[encoded data removed]",
      "text/plain": [
       "<Figure size 600x400 with 1 Axes>"
      ]
     },
     "metadata": {},
     "output_type": "display_data"
    }
   ],
   "source": [
    "# Plot training loss\n",
    "plt.figure(figsize=(6, 4))\n",
    "plt.plot(losses)\n",
    "plt.title(\"Training Loss over Epochs\")\n",
    "plt.xlabel(\"Epoch\")\n",
    "plt.ylabel(\"Loss\")\n",
    "plt.grid(True)\n",
    "plt.show()"
   ]
  },
  {
   "cell_type": "code",
   "execution_count": 11,
   "id": "da2f14eb",
   "metadata": {},
   "outputs": [
    {
     "data": {
      "image/png": "[encoded data removed]",
      "text/plain": [
       "<Figure size 600x400 with 1 Axes>"
      ]
     },
     "metadata": {},
     "output_type": "display_data"
    }
   ],
   "source": [
    "# Plot the fitted line\n",
    "predicted = model(X).detach()\n",
    "plt.figure(figsize=(6, 4))\n",
    "plt.scatter(X.numpy(), Y.numpy(), label='Data')\n",
    "plt.plot(X.numpy(), predicted.numpy(), color='red', label='Fitted line')\n",
    "plt.title(\"Linear Regression using PyTorch\")\n",
    "plt.legend()\n",
    "plt.grid(True)\n",
    "plt.show()\n"
   ]
  },
  {
   "cell_type": "markdown",
   "id": "fc761dac",
   "metadata": {},
   "source": [
    "# CLASSWORK QUESTIONS (Hands-On Practice)\n",
    "\n",
    "1.  Modify the learning rate in the optimizer to `0.01` and rerun training. What happens to convergence?\n",
    "2. Increase the number of training epochs to `200`. Does the loss improve more?\n",
    "3. Add more noise to the data (e.g., change `0.1` to `0.5`). How does the fitted line look?"
   ]
  }
 ],
 "metadata": {
  "kernelspec": {
   "display_name": "Python 3",
   "language": "python",
   "name": "python3"
  },
  "language_info": {
   "codemirror_mode": {
    "name": "ipython",
    "version": 3
   },
   "file_extension": ".py",
   "mimetype": "text/x-python",
   "name": "python",
   "nbconvert_exporter": "python",
   "pygments_lexer": "ipython3",
   "version": "3.10.11"
  }
 },
 "nbformat": 4,
 "nbformat_minor": 5
}
