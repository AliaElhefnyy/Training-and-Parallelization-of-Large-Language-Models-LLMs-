{
 "cells": [
  {
   "cell_type": "markdown",
   "id": "63aa4a92",
   "metadata": {},
   "source": [
    "# Lab 3: Tokenization and Embeddings for Language Modeling"
   ]
  },
  {
   "cell_type": "markdown",
   "id": "bd118e22",
   "metadata": {},
   "source": [
    "## 🛠️ SETUP AND INSTALLATIONS\n",
    "- install the required libraries (run in notebook or terminal)\n",
    "    - !pip install torch torchtext transformers matplotlib"
   ]
  },
  {
   "cell_type": "code",
   "execution_count": 1,
   "id": "9a6b4490",
   "metadata": {},
   "outputs": [
    {
     "name": "stderr",
     "output_type": "stream",
     "text": [
      "C:\\Users\\aliae\\AppData\\Local\\Packages\\PythonSoftwareFoundation.Python.3.10_qbz5n2kfra8p0\\LocalCache\\local-packages\\Python310\\site-packages\\tqdm\\auto.py:21: TqdmWarning: IProgress not found. Please update jupyter and ipywidgets. See https://ipywidgets.readthedocs.io/en/stable/user_install.html\n",
      "  from .autonotebook import tqdm as notebook_tqdm\n"
     ]
    }
   ],
   "source": [
    "import torch\n",
    "import torch.nn as nn\n",
    "import matplotlib.pyplot as plt\n",
    "from transformers import AutoTokenizer\n",
    "from collections import Counter\n",
    "import numpy as np"
   ]
  },
  {
   "cell_type": "markdown",
   "id": "5e912a27",
   "metadata": {},
   "source": [
    "##  📘 SECTION 1: What is Tokenization?\n",
    "- Tokenization splits raw text into units (tokens): words, subwords, or characters.\n",
    "- Tokens are then mapped to numeric IDs to be processed by models."
   ]
  },
  {
   "cell_type": "code",
   "execution_count": 2,
   "id": "378fb033",
   "metadata": {},
   "outputs": [
    {
     "name": "stdout",
     "output_type": "stream",
     "text": [
      "Basic tokens: ['i', 'love', 'learning', 'about', 'large', 'language', 'models.']\n"
     ]
    }
   ],
   "source": [
    "text = \"I love learning about large language models.\"\n",
    "\n",
    "# Example 1: Basic whitespace tokenizer\n",
    "basic_tokens = text.lower().split()\n",
    "print(\"Basic tokens:\", basic_tokens)"
   ]
  },
  {
   "cell_type": "code",
   "execution_count": null,
   "id": "035941f6",
   "metadata": {},
   "outputs": [
    {
     "name": "stdout",
     "output_type": "stream",
     "text": [
      "Subword tokens: ['i', 'love', 'learning', 'about', 'large', 'language', 'models', '.']\n",
      "Token IDs: [1045, 2293, 4083, 2055, 2312, 2653, 4275, 1012]\n"
     ]
    }
   ],
   "source": [
    "# Example 2: Subword tokenizer using HuggingFace\n",
    "# Using a pre-trained tokenizer from HuggingFace\n",
    "# This tokenizer splits text into subwords and maps them to IDs.\n",
    "# bert-base-uncased is a commonly used model for English text.\n",
    "# This tokenizer handles out-of-vocabulary words by breaking them into smaller subwords.\n",
    "# Example: \"unhappiness\" might be tokenized into [\"un\", \"happiness\"].\n",
    "# You can replace \"bert-base-uncased\" with any other model available on HuggingFace.\n",
    "hf_tokenizer = AutoTokenizer.from_pretrained(\"bert-base-uncased\")\n",
    "hf_tokens = hf_tokenizer.tokenize(text)\n",
    "hf_ids = hf_tokenizer.convert_tokens_to_ids(hf_tokens)\n",
    "print(\"Subword tokens:\", hf_tokens)\n",
    "print(\"Token IDs:\", hf_ids)"
   ]
  },
  {
   "cell_type": "markdown",
   "id": "c730bde1",
   "metadata": {},
   "source": [
    "## 🧱 SECTION 2: Building Vocabulary and Mapping to IDs\n",
    "- A vocabulary maps each unique token to a number.\n",
    "- This step is often skipped with pretrained tokenizers but important to understand."
   ]
  },
  {
   "cell_type": "code",
   "execution_count": 5,
   "id": "89b17e4d",
   "metadata": {},
   "outputs": [
    {
     "name": "stdout",
     "output_type": "stream",
     "text": [
      "Vocabulary: {'i': 0, 'love': 1, 'ai': 2, 'is': 3, 'amazing': 4, 'transformers': 5, 'learn': 6, 'context': 7}\n",
      "Token indices: [2, 3, 4]\n"
     ]
    }
   ],
   "source": [
    "# Example corpus\n",
    "corpus = [\"I love AI\", \"AI is amazing\", \"Transformers learn context\"]\n",
    "\n",
    "# Build vocabulary manually\n",
    "all_words = \" \".join(corpus).lower().split()\n",
    "word_counts = Counter(all_words)\n",
    "vocab = {word: idx for idx, (word, _) in enumerate(word_counts.items())}\n",
    "print(\"Vocabulary:\", vocab)\n",
    "\n",
    "# Map a sentence to indices\n",
    "sentence = \"AI is amazing\"\n",
    "indices = [vocab[word] for word in sentence.lower().split()]\n",
    "print(\"Token indices:\", indices)"
   ]
  },
  {
   "cell_type": "markdown",
   "id": "1edac0c8",
   "metadata": {},
   "source": [
    "# 🔢 SECTION 3: Word Embeddings with nn.Embedding\n",
    "\n",
    "- Embeddings map token IDs to dense vectors\n",
    "- These vectors are learned during training"
   ]
  },
  {
   "cell_type": "code",
   "execution_count": 6,
   "id": "f01fcc8f",
   "metadata": {},
   "outputs": [
    {
     "name": "stdout",
     "output_type": "stream",
     "text": [
      "Word Embeddings:\n",
      " tensor([[ 2.0764,  0.9532, -0.4930, -0.3930,  0.3854],\n",
      "        [-0.2617,  1.8106,  0.5383, -0.2989,  1.5515],\n",
      "        [-2.0549,  0.7954, -0.1301, -0.4799,  1.2891]],\n",
      "       grad_fn=<EmbeddingBackward0>)\n"
     ]
    }
   ],
   "source": [
    "vocab_size = len(vocab)\n",
    "embedding_dim = 5\n",
    "embedding_layer = nn.Embedding(num_embeddings=vocab_size, embedding_dim=embedding_dim)\n",
    "\n",
    "word_tensor = torch.tensor(indices)  # shape: [3]\n",
    "embedded = embedding_layer(word_tensor)  # shape: [3, 5]\n",
    "print(\"Word Embeddings:\\n\", embedded)"
   ]
  },
  {
   "cell_type": "markdown",
   "id": "3878049b",
   "metadata": {},
   "source": [
    "## 🔮 SECTION 4: Mini Language Modeling Task\n",
    "- Task: Predict next word from a sequence\n",
    "- Dataset: Tiny custom corpus\n",
    "- Model: Simple FFNN with embedding"
   ]
  },
  {
   "cell_type": "markdown",
   "id": "6d39a77d",
   "metadata": {},
   "source": [
    "### Define Dataset"
   ]
  },
  {
   "cell_type": "code",
   "execution_count": 8,
   "id": "6afeb1a4",
   "metadata": {},
   "outputs": [],
   "source": [
    "sequences = [\n",
    "    (\"i love\", \"ai\"),\n",
    "    (\"ai is\", \"amazing\"),\n",
    "    (\"transformers learn\", \"context\")\n",
    "]"
   ]
  },
  {
   "cell_type": "markdown",
   "id": "641abd7a",
   "metadata": {},
   "source": [
    "### Build vocabulary "
   ]
  },
  {
   "cell_type": "code",
   "execution_count": null,
   "id": "a3148262",
   "metadata": {},
   "outputs": [
    {
     "name": "stdout",
     "output_type": "stream",
     "text": [
      "Inverse Vocabulary: {0: 'i', 1: 'love', 2: 'ai', 3: 'is', 4: 'amazing', 5: 'transformers', 6: 'learn', 7: 'context'}\n"
     ]
    }
   ],
   "source": [
    "\n",
    "for seq, target in sequences: # This is a list of tuples where each tuple contains a sequence and its target word.\n",
    "    for word in seq.split() + [target]: # We split the sequence and target word into individual words.\n",
    "        if word not in vocab: # If the word is not already in the vocabulary, we add it.\n",
    "            vocab[word] = len(vocab) # Assign a new index to the word.\n",
    "\n",
    "inv_vocab = {v: k for k, v in vocab.items()} # Create an inverse vocabulary to map indices back to words.\n",
    "print(\"Inverse Vocabulary:\", inv_vocab)"
   ]
  },
  {
   "cell_type": "markdown",
   "id": "cdf8cfe2",
   "metadata": {},
   "source": [
    "### Prepare training data"
   ]
  },
  {
   "cell_type": "code",
   "execution_count": null,
   "id": "37fd426e",
   "metadata": {},
   "outputs": [],
   "source": [
    "X = []\n",
    "y = []\n",
    "for seq, target in sequences:\n",
    "    seq_ids = [vocab[word] for word in seq.split()] # Convert sequence words to their corresponding IDs\n",
    "    target_id = vocab[target] # Convert target word to its corresponding ID\n",
    "    X.append(seq_ids) # Append the sequence IDs to X\n",
    "    y.append(target_id) # Append the target ID to y\n",
    "\n",
    "X_tensor = torch.tensor(X)       # Shape: (3, 2)\n",
    "y_tensor = torch.tensor(y)      # Shape: (3,)"
   ]
  },
  {
   "cell_type": "markdown",
   "id": "a73fbbd6",
   "metadata": {},
   "source": [
    "### Define Model"
   ]
  },
  {
   "cell_type": "code",
   "execution_count": 13,
   "id": "bdf9d0f0",
   "metadata": {},
   "outputs": [],
   "source": [
    "class MiniLM(nn.Module):\n",
    "    def __init__(self, vocab_size, embed_dim, hidden_dim):\n",
    "        super().__init__()\n",
    "        self.embedding = nn.Embedding(vocab_size, embed_dim)\n",
    "        self.fc1 = nn.Linear(embed_dim * 2, hidden_dim)\n",
    "        self.relu = nn.ReLU()\n",
    "        self.fc2 = nn.Linear(hidden_dim, vocab_size)\n",
    "\n",
    "    def forward(self, x):\n",
    "        x = self.embedding(x)  # Shape: (batch, seq_len, embed_dim)\n",
    "        x = x.view(x.size(0), -1)  # Flatten\n",
    "        x = self.fc1(x)\n",
    "        x = self.relu(x)\n",
    "        x = self.fc2(x)\n",
    "        return x\n",
    "\n",
    "model = MiniLM(vocab_size=len(vocab), embed_dim=8, hidden_dim=16)\n",
    "criterion = nn.CrossEntropyLoss()\n",
    "optimizer = torch.optim.Adam(model.parameters(), lr=0.01)"
   ]
  },
  {
   "cell_type": "markdown",
   "id": "84117b9e",
   "metadata": {},
   "source": [
    "### Train Model"
   ]
  },
  {
   "cell_type": "code",
   "execution_count": null,
   "id": "dee95850",
   "metadata": {},
   "outputs": [
    {
     "name": "stdout",
     "output_type": "stream",
     "text": [
      "Epoch 10, Loss: 0.9403\n",
      "Epoch 20, Loss: 0.2038\n",
      "Epoch 30, Loss: 0.0264\n",
      "Epoch 40, Loss: 0.0038\n",
      "Epoch 50, Loss: 0.0014\n"
     ]
    },
    {
     "data": {
      "image/png": "[encoded data removed]",
      "text/plain": [
       "<Figure size 640x480 with 1 Axes>"
      ]
     },
     "metadata": {},
     "output_type": "display_data"
    },
    {
     "name": "stdout",
     "output_type": "stream",
     "text": [
      "Input: i love => Prediction: ai (Target: ai)\n",
      "Input: ai is => Prediction: amazing (Target: amazing)\n",
      "Input: transformers learn => Prediction: context (Target: context)\n"
     ]
    }
   ],
   "source": [
    "losses = []\n",
    "for epoch in range(50):\n",
    "    model.train()\n",
    "    optimizer.zero_grad()\n",
    "    outputs = model(X_tensor)\n",
    "    loss = criterion(outputs, y_tensor)\n",
    "    loss.backward()\n",
    "    optimizer.step()\n",
    "    losses.append(loss.item())\n",
    "    if (epoch + 1) % 10 == 0:\n",
    "        print(f\"Epoch {epoch + 1}, Loss: {loss.item():.4f}\")\n",
    "\n",
    "# Plot training loss\n",
    "plt.plot(losses)\n",
    "plt.title(\"Training Loss\")\n",
    "plt.xlabel(\"Epoch\")\n",
    "plt.ylabel(\"Loss\")\n",
    "plt.grid(True)\n",
    "plt.show()\n",
    "\n",
    "# Predict on training data\n",
    "model.eval()\n",
    "with torch.no_grad():\n",
    "    predictions = model(X_tensor).argmax(dim=1)\n",
    "    for i, pred_id in enumerate(predictions):\n",
    "        print(f\"Input: {sequences[i][0]} => Prediction: {inv_vocab[pred_id.item()]} (Target: {sequences[i][1]})\")"
   ]
  }
 ],
 "metadata": {
  "kernelspec": {
   "display_name": "Python 3",
   "language": "python",
   "name": "python3"
  },
  "language_info": {
   "codemirror_mode": {
    "name": "ipython",
    "version": 3
   },
   "file_extension": ".py",
   "mimetype": "text/x-python",
   "name": "python",
   "nbconvert_exporter": "python",
   "pygments_lexer": "ipython3",
   "version": "3.10.11"
  }
 },
 "nbformat": 4,
 "nbformat_minor": 5
}
